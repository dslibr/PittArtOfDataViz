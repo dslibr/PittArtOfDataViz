{
 "cells": [
  {
   "cell_type": "markdown",
   "id": "6d813fbf-1df6-40f4-8e07-ebe56a09c40a",
   "metadata": {},
   "source": [
    "## Matplotlib BAR\n",
    "\n",
    "Tutorial used:\n",
    "<br>\n",
    "https://www.youtube.com/watch?v=nKxLfUrkLE8"
   ]
  },
  {
   "cell_type": "code",
   "execution_count": 1,
   "id": "8da5d282-a09d-4508-95e2-e6a348f4cb96",
   "metadata": {},
   "outputs": [],
   "source": [
    "import numpy as np\n",
    "import pandas as pd\n",
    "import matplotlib.pyplot as plt\n",
    "\n",
    "from collections import Counter\n",
    "import csv"
   ]
  },
  {
   "cell_type": "code",
   "execution_count": 2,
   "id": "a734b9e7-7a03-4d6d-a309-93d2c2960be9",
   "metadata": {},
   "outputs": [],
   "source": [
    "df = pd.read_csv(\"data/marijuana_arrests_and_citations_2017_thru_2022.csv\")"
   ]
  },
  {
   "cell_type": "code",
   "execution_count": 3,
   "id": "d8489bbc-d5ab-4173-8f48-0af8530753b3",
   "metadata": {},
   "outputs": [
    {
     "data": {
      "text/html": [
       "<div>\n",
       "<style scoped>\n",
       "    .dataframe tbody tr th:only-of-type {\n",
       "        vertical-align: middle;\n",
       "    }\n",
       "\n",
       "    .dataframe tbody tr th {\n",
       "        vertical-align: top;\n",
       "    }\n",
       "\n",
       "    .dataframe thead th {\n",
       "        text-align: right;\n",
       "    }\n",
       "</style>\n",
       "<table border=\"1\" class=\"dataframe\">\n",
       "  <thead>\n",
       "    <tr style=\"text-align: right;\">\n",
       "      <th></th>\n",
       "      <th>index</th>\n",
       "      <th>_id</th>\n",
       "      <th>PK</th>\n",
       "      <th>CCR</th>\n",
       "      <th>AGE</th>\n",
       "      <th>GENDER</th>\n",
       "      <th>RACE</th>\n",
       "      <th>TIME</th>\n",
       "      <th>ARRESTLOCATION</th>\n",
       "      <th>OFFENSES</th>\n",
       "      <th>INCIDENTLOCATION</th>\n",
       "      <th>INCIDENTNEIGHBORHOOD</th>\n",
       "      <th>INCIDENTZONE</th>\n",
       "      <th>INCIDENTTRACT</th>\n",
       "      <th>COUNCIL_DISTRICT</th>\n",
       "      <th>PUBLIC_WORKS_DIVISION</th>\n",
       "      <th>X</th>\n",
       "      <th>Y</th>\n",
       "      <th>record_type</th>\n",
       "      <th>marijuana_flag</th>\n",
       "    </tr>\n",
       "  </thead>\n",
       "  <tbody>\n",
       "    <tr>\n",
       "      <th>0</th>\n",
       "      <td>3851</td>\n",
       "      <td>3852</td>\n",
       "      <td>1979466</td>\n",
       "      <td>16207605</td>\n",
       "      <td>54.0</td>\n",
       "      <td>M</td>\n",
       "      <td>B</td>\n",
       "      <td>2017-01-05T00:02:00</td>\n",
       "      <td>5th AV &amp; Pride ST Pittsburgh, PA 15219</td>\n",
       "      <td>4910 Tampering with or Fabricating Physical Ev...</td>\n",
       "      <td>2000 Block Wyandotte ST Pittsburgh, PA 15219</td>\n",
       "      <td>Crawford-Roberts</td>\n",
       "      <td>Zone 2</td>\n",
       "      <td>305.0</td>\n",
       "      <td>6.0</td>\n",
       "      <td>3.0</td>\n",
       "      <td>-79.977467</td>\n",
       "      <td>40.438224</td>\n",
       "      <td>Arrest</td>\n",
       "      <td>1</td>\n",
       "    </tr>\n",
       "    <tr>\n",
       "      <th>1</th>\n",
       "      <td>3927</td>\n",
       "      <td>3928</td>\n",
       "      <td>1979566</td>\n",
       "      <td>16235765</td>\n",
       "      <td>23.0</td>\n",
       "      <td>F</td>\n",
       "      <td>B</td>\n",
       "      <td>2017-01-09T17:00:00</td>\n",
       "      <td>900 Block 2nd AV Pittsburgh, PA 15219</td>\n",
       "      <td>4304(a)(1) Endangering Welfare of Children. / ...</td>\n",
       "      <td>2000 Block 5th AV Pittsburgh, PA 15219</td>\n",
       "      <td>Bluff</td>\n",
       "      <td>Zone 2</td>\n",
       "      <td>103.0</td>\n",
       "      <td>6.0</td>\n",
       "      <td>3.0</td>\n",
       "      <td>-79.977530</td>\n",
       "      <td>40.438003</td>\n",
       "      <td>Arrest</td>\n",
       "      <td>1</td>\n",
       "    </tr>\n",
       "    <tr>\n",
       "      <th>2</th>\n",
       "      <td>4114</td>\n",
       "      <td>4115</td>\n",
       "      <td>1979812</td>\n",
       "      <td>16236311</td>\n",
       "      <td>15.0</td>\n",
       "      <td>M</td>\n",
       "      <td>B</td>\n",
       "      <td>2017-01-06T13:20:00</td>\n",
       "      <td>Zone 2</td>\n",
       "      <td>5503 Disorderly Conduct. / 13(a)(31) Marijuana...</td>\n",
       "      <td>Zone 5</td>\n",
       "      <td>NaN</td>\n",
       "      <td>Zone 5</td>\n",
       "      <td>NaN</td>\n",
       "      <td>NaN</td>\n",
       "      <td>NaN</td>\n",
       "      <td>NaN</td>\n",
       "      <td>NaN</td>\n",
       "      <td>Arrest</td>\n",
       "      <td>1</td>\n",
       "    </tr>\n",
       "    <tr>\n",
       "      <th>3</th>\n",
       "      <td>4189</td>\n",
       "      <td>4190</td>\n",
       "      <td>1979900</td>\n",
       "      <td>17000760</td>\n",
       "      <td>34.0</td>\n",
       "      <td>M</td>\n",
       "      <td>W</td>\n",
       "      <td>2017-01-02T09:12:00</td>\n",
       "      <td>10 Block 40th ST Pittsburgh, PA 15201</td>\n",
       "      <td>13(a)(16) Possession of Controlled Substance /...</td>\n",
       "      <td>10 Block 40th ST Pittsburgh, PA 15201</td>\n",
       "      <td>Central Lawrenceville</td>\n",
       "      <td>Zone 2</td>\n",
       "      <td>901.0</td>\n",
       "      <td>7.0</td>\n",
       "      <td>2.0</td>\n",
       "      <td>-79.964880</td>\n",
       "      <td>40.470229</td>\n",
       "      <td>Arrest</td>\n",
       "      <td>1</td>\n",
       "    </tr>\n",
       "    <tr>\n",
       "      <th>4</th>\n",
       "      <td>4208</td>\n",
       "      <td>4209</td>\n",
       "      <td>1979939</td>\n",
       "      <td>17001618</td>\n",
       "      <td>20.0</td>\n",
       "      <td>M</td>\n",
       "      <td>B</td>\n",
       "      <td>2017-01-03T15:40:00</td>\n",
       "      <td>44th ST &amp; Calvin ST Pittsburgh, PA 15201</td>\n",
       "      <td>13(a)(16) Possession of Controlled Substance /...</td>\n",
       "      <td>44th ST &amp; Calvin ST Pittsburgh, PA 15201</td>\n",
       "      <td>Central Lawrenceville</td>\n",
       "      <td>Zone 2</td>\n",
       "      <td>902.0</td>\n",
       "      <td>7.0</td>\n",
       "      <td>2.0</td>\n",
       "      <td>-79.953776</td>\n",
       "      <td>40.466623</td>\n",
       "      <td>Arrest</td>\n",
       "      <td>1</td>\n",
       "    </tr>\n",
       "  </tbody>\n",
       "</table>\n",
       "</div>"
      ],
      "text/plain": [
       "   index   _id       PK       CCR   AGE GENDER RACE                 TIME  \\\n",
       "0   3851  3852  1979466  16207605  54.0      M    B  2017-01-05T00:02:00   \n",
       "1   3927  3928  1979566  16235765  23.0      F    B  2017-01-09T17:00:00   \n",
       "2   4114  4115  1979812  16236311  15.0      M    B  2017-01-06T13:20:00   \n",
       "3   4189  4190  1979900  17000760  34.0      M    W  2017-01-02T09:12:00   \n",
       "4   4208  4209  1979939  17001618  20.0      M    B  2017-01-03T15:40:00   \n",
       "\n",
       "                             ARRESTLOCATION  \\\n",
       "0    5th AV & Pride ST Pittsburgh, PA 15219   \n",
       "1     900 Block 2nd AV Pittsburgh, PA 15219   \n",
       "2                                    Zone 2   \n",
       "3     10 Block 40th ST Pittsburgh, PA 15201   \n",
       "4  44th ST & Calvin ST Pittsburgh, PA 15201   \n",
       "\n",
       "                                            OFFENSES  \\\n",
       "0  4910 Tampering with or Fabricating Physical Ev...   \n",
       "1  4304(a)(1) Endangering Welfare of Children. / ...   \n",
       "2  5503 Disorderly Conduct. / 13(a)(31) Marijuana...   \n",
       "3  13(a)(16) Possession of Controlled Substance /...   \n",
       "4  13(a)(16) Possession of Controlled Substance /...   \n",
       "\n",
       "                               INCIDENTLOCATION   INCIDENTNEIGHBORHOOD  \\\n",
       "0  2000 Block Wyandotte ST Pittsburgh, PA 15219       Crawford-Roberts   \n",
       "1        2000 Block 5th AV Pittsburgh, PA 15219                  Bluff   \n",
       "2                                        Zone 5                    NaN   \n",
       "3         10 Block 40th ST Pittsburgh, PA 15201  Central Lawrenceville   \n",
       "4      44th ST & Calvin ST Pittsburgh, PA 15201  Central Lawrenceville   \n",
       "\n",
       "  INCIDENTZONE INCIDENTTRACT  COUNCIL_DISTRICT  PUBLIC_WORKS_DIVISION  \\\n",
       "0       Zone 2         305.0               6.0                    3.0   \n",
       "1       Zone 2         103.0               6.0                    3.0   \n",
       "2       Zone 5           NaN               NaN                    NaN   \n",
       "3       Zone 2         901.0               7.0                    2.0   \n",
       "4       Zone 2         902.0               7.0                    2.0   \n",
       "\n",
       "           X          Y record_type  marijuana_flag  \n",
       "0 -79.977467  40.438224      Arrest               1  \n",
       "1 -79.977530  40.438003      Arrest               1  \n",
       "2        NaN        NaN      Arrest               1  \n",
       "3 -79.964880  40.470229      Arrest               1  \n",
       "4 -79.953776  40.466623      Arrest               1  "
      ]
     },
     "execution_count": 3,
     "metadata": {},
     "output_type": "execute_result"
    }
   ],
   "source": [
    "df.head()"
   ]
  },
  {
   "cell_type": "code",
   "execution_count": 4,
   "id": "55d4b309-d476-4e80-a9bd-e80beb18fc28",
   "metadata": {},
   "outputs": [
    {
     "data": {
      "text/plain": [
       "['4910 Tampering with or Fabricating Physical Evidence. / 13(a)(32) Paraphernalia - Use or Possession',\n",
       " '4304(a)(1) Endangering Welfare of Children. / 13(a)(16) Possession of Controlled Substance / 13(a)(32) Paraphernalia - Use or Possession',\n",
       " '5503 Disorderly Conduct. / 13(a)(31) Marijuana: Possession Small Amount',\n",
       " '13(a)(16) Possession of Controlled Substance / 13(a)(32) Paraphernalia - Use or Possession',\n",
       " '13(a)(16) Possession of Controlled Substance / 13(a)(30) Possession w/ Intent to Del. Controlled Substance / 13(a)(32) Paraphernalia - Use or Possession']"
      ]
     },
     "execution_count": 4,
     "metadata": {},
     "output_type": "execute_result"
    }
   ],
   "source": [
    "df['OFFENSES'].unique().tolist()[0:5]"
   ]
  },
  {
   "cell_type": "code",
   "execution_count": 5,
   "id": "99dbaada-b569-4d07-9173-baaf142e34fe",
   "metadata": {},
   "outputs": [
    {
     "data": {
      "text/plain": [
       "1    12612\n",
       "Name: marijuana_flag, dtype: int64"
      ]
     },
     "execution_count": 5,
     "metadata": {},
     "output_type": "execute_result"
    }
   ],
   "source": [
    "df['marijuana_flag'].value_counts()"
   ]
  },
  {
   "cell_type": "code",
   "execution_count": 6,
   "id": "3ba92ce7-eacc-4ede-af8c-51eddc78336c",
   "metadata": {},
   "outputs": [
    {
     "data": {
      "text/plain": [
       "Arrest      11444\n",
       "Citation     1168\n",
       "Name: record_type, dtype: int64"
      ]
     },
     "execution_count": 6,
     "metadata": {},
     "output_type": "execute_result"
    }
   ],
   "source": [
    "df['record_type'].value_counts()"
   ]
  },
  {
   "cell_type": "code",
   "execution_count": 7,
   "id": "ffc54a68-ebe0-4230-8bdc-446a31bbb79c",
   "metadata": {},
   "outputs": [
    {
     "data": {
      "text/plain": [
       "0"
      ]
     },
     "execution_count": 7,
     "metadata": {},
     "output_type": "execute_result"
    }
   ],
   "source": [
    "df['PK'].isna().sum()"
   ]
  },
  {
   "cell_type": "code",
   "execution_count": 8,
   "id": "1bfb2a5d-b195-4ff3-b084-03aa70694b66",
   "metadata": {},
   "outputs": [],
   "source": [
    "df_by_race = df.groupby('RACE').\\\n",
    "    aggregate(rec_cnt=('PK', 'count')).\\\n",
    "    reset_index().\\\n",
    "    copy()"
   ]
  },
  {
   "cell_type": "code",
   "execution_count": 9,
   "id": "bc1586eb-41d9-4756-a7be-407ffe22ebfb",
   "metadata": {},
   "outputs": [
    {
     "data": {
      "text/html": [
       "<div>\n",
       "<style scoped>\n",
       "    .dataframe tbody tr th:only-of-type {\n",
       "        vertical-align: middle;\n",
       "    }\n",
       "\n",
       "    .dataframe tbody tr th {\n",
       "        vertical-align: top;\n",
       "    }\n",
       "\n",
       "    .dataframe thead th {\n",
       "        text-align: right;\n",
       "    }\n",
       "</style>\n",
       "<table border=\"1\" class=\"dataframe\">\n",
       "  <thead>\n",
       "    <tr style=\"text-align: right;\">\n",
       "      <th></th>\n",
       "      <th>RACE</th>\n",
       "      <th>rec_cnt</th>\n",
       "    </tr>\n",
       "  </thead>\n",
       "  <tbody>\n",
       "    <tr>\n",
       "      <th>0</th>\n",
       "      <td>A</td>\n",
       "      <td>22</td>\n",
       "    </tr>\n",
       "    <tr>\n",
       "      <th>1</th>\n",
       "      <td>B</td>\n",
       "      <td>8037</td>\n",
       "    </tr>\n",
       "    <tr>\n",
       "      <th>2</th>\n",
       "      <td>H</td>\n",
       "      <td>82</td>\n",
       "    </tr>\n",
       "    <tr>\n",
       "      <th>3</th>\n",
       "      <td>I</td>\n",
       "      <td>5</td>\n",
       "    </tr>\n",
       "    <tr>\n",
       "      <th>4</th>\n",
       "      <td>O</td>\n",
       "      <td>95</td>\n",
       "    </tr>\n",
       "    <tr>\n",
       "      <th>5</th>\n",
       "      <td>U</td>\n",
       "      <td>48</td>\n",
       "    </tr>\n",
       "    <tr>\n",
       "      <th>6</th>\n",
       "      <td>W</td>\n",
       "      <td>4322</td>\n",
       "    </tr>\n",
       "  </tbody>\n",
       "</table>\n",
       "</div>"
      ],
      "text/plain": [
       "  RACE  rec_cnt\n",
       "0    A       22\n",
       "1    B     8037\n",
       "2    H       82\n",
       "3    I        5\n",
       "4    O       95\n",
       "5    U       48\n",
       "6    W     4322"
      ]
     },
     "execution_count": 9,
     "metadata": {},
     "output_type": "execute_result"
    }
   ],
   "source": [
    "df_by_race"
   ]
  },
  {
   "cell_type": "code",
   "execution_count": 10,
   "id": "cf961eea-68ef-448c-80f8-974f63f60420",
   "metadata": {},
   "outputs": [
    {
     "data": {
      "text/plain": [
       "26.0    530\n",
       "27.0    515\n",
       "30.0    489\n",
       "23.0    477\n",
       "28.0    462\n",
       "       ... \n",
       "74.0      2\n",
       "78.0      2\n",
       "98.0      1\n",
       "11.0      1\n",
       "76.0      1\n",
       "Name: AGE, Length: 68, dtype: int64"
      ]
     },
     "execution_count": 10,
     "metadata": {},
     "output_type": "execute_result"
    }
   ],
   "source": [
    "df['AGE'].value_counts()"
   ]
  },
  {
   "cell_type": "code",
   "execution_count": 11,
   "id": "5f42c16f-0ba6-47b9-94c2-e34ac230c586",
   "metadata": {},
   "outputs": [
    {
     "data": {
      "text/plain": [
       "count    12573.000000\n",
       "mean        32.848564\n",
       "std         11.943537\n",
       "min          0.000000\n",
       "25%         24.000000\n",
       "50%         30.000000\n",
       "75%         40.000000\n",
       "max         98.000000\n",
       "Name: AGE, dtype: float64"
      ]
     },
     "execution_count": 11,
     "metadata": {},
     "output_type": "execute_result"
    }
   ],
   "source": [
    "df.AGE.describe()"
   ]
  },
  {
   "cell_type": "code",
   "execution_count": 12,
   "id": "f5cccd1f-e904-4d4e-8df3-53166c724571",
   "metadata": {},
   "outputs": [],
   "source": [
    "df_by_zone = df.groupby('INCIDENTZONE').\\\n",
    "    aggregate(rec_cnt=('PK', 'count')).\\\n",
    "    reset_index().\\\n",
    "    copy()"
   ]
  },
  {
   "cell_type": "code",
   "execution_count": 13,
   "id": "d9fbaea0-6595-4457-8e53-6146378ccbd1",
   "metadata": {},
   "outputs": [
    {
     "data": {
      "text/html": [
       "<div>\n",
       "<style scoped>\n",
       "    .dataframe tbody tr th:only-of-type {\n",
       "        vertical-align: middle;\n",
       "    }\n",
       "\n",
       "    .dataframe tbody tr th {\n",
       "        vertical-align: top;\n",
       "    }\n",
       "\n",
       "    .dataframe thead th {\n",
       "        text-align: right;\n",
       "    }\n",
       "</style>\n",
       "<table border=\"1\" class=\"dataframe\">\n",
       "  <thead>\n",
       "    <tr style=\"text-align: right;\">\n",
       "      <th></th>\n",
       "      <th>INCIDENTZONE</th>\n",
       "      <th>rec_cnt</th>\n",
       "    </tr>\n",
       "  </thead>\n",
       "  <tbody>\n",
       "    <tr>\n",
       "      <th>0</th>\n",
       "      <td>OSC</td>\n",
       "      <td>145</td>\n",
       "    </tr>\n",
       "    <tr>\n",
       "      <th>1</th>\n",
       "      <td>Zone 1</td>\n",
       "      <td>3071</td>\n",
       "    </tr>\n",
       "    <tr>\n",
       "      <th>2</th>\n",
       "      <td>Zone 2</td>\n",
       "      <td>1721</td>\n",
       "    </tr>\n",
       "    <tr>\n",
       "      <th>3</th>\n",
       "      <td>Zone 3</td>\n",
       "      <td>2222</td>\n",
       "    </tr>\n",
       "    <tr>\n",
       "      <th>4</th>\n",
       "      <td>Zone 4</td>\n",
       "      <td>1102</td>\n",
       "    </tr>\n",
       "    <tr>\n",
       "      <th>5</th>\n",
       "      <td>Zone 5</td>\n",
       "      <td>3357</td>\n",
       "    </tr>\n",
       "    <tr>\n",
       "      <th>6</th>\n",
       "      <td>Zone 6</td>\n",
       "      <td>984</td>\n",
       "    </tr>\n",
       "  </tbody>\n",
       "</table>\n",
       "</div>"
      ],
      "text/plain": [
       "  INCIDENTZONE  rec_cnt\n",
       "0          OSC      145\n",
       "1       Zone 1     3071\n",
       "2       Zone 2     1721\n",
       "3       Zone 3     2222\n",
       "4       Zone 4     1102\n",
       "5       Zone 5     3357\n",
       "6       Zone 6      984"
      ]
     },
     "execution_count": 13,
     "metadata": {},
     "output_type": "execute_result"
    }
   ],
   "source": [
    "df_by_zone"
   ]
  },
  {
   "cell_type": "code",
   "execution_count": 14,
   "id": "c7aed446-f2db-40fb-a87c-2b9cb02d2bb0",
   "metadata": {},
   "outputs": [],
   "source": [
    "df_by_age = df.groupby('AGE').\\\n",
    "    aggregate(rec_cnt=('PK', 'count')).\\\n",
    "    reset_index().\\\n",
    "    copy()"
   ]
  },
  {
   "cell_type": "code",
   "execution_count": 15,
   "id": "069625af-d6be-447c-a9c7-726990f1ea07",
   "metadata": {},
   "outputs": [
    {
     "data": {
      "text/html": [
       "<div>\n",
       "<style scoped>\n",
       "    .dataframe tbody tr th:only-of-type {\n",
       "        vertical-align: middle;\n",
       "    }\n",
       "\n",
       "    .dataframe tbody tr th {\n",
       "        vertical-align: top;\n",
       "    }\n",
       "\n",
       "    .dataframe thead th {\n",
       "        text-align: right;\n",
       "    }\n",
       "</style>\n",
       "<table border=\"1\" class=\"dataframe\">\n",
       "  <thead>\n",
       "    <tr style=\"text-align: right;\">\n",
       "      <th></th>\n",
       "      <th>AGE</th>\n",
       "      <th>rec_cnt</th>\n",
       "    </tr>\n",
       "  </thead>\n",
       "  <tbody>\n",
       "    <tr>\n",
       "      <th>0</th>\n",
       "      <td>0.0</td>\n",
       "      <td>3</td>\n",
       "    </tr>\n",
       "    <tr>\n",
       "      <th>1</th>\n",
       "      <td>11.0</td>\n",
       "      <td>1</td>\n",
       "    </tr>\n",
       "    <tr>\n",
       "      <th>2</th>\n",
       "      <td>12.0</td>\n",
       "      <td>15</td>\n",
       "    </tr>\n",
       "    <tr>\n",
       "      <th>3</th>\n",
       "      <td>13.0</td>\n",
       "      <td>25</td>\n",
       "    </tr>\n",
       "    <tr>\n",
       "      <th>4</th>\n",
       "      <td>14.0</td>\n",
       "      <td>55</td>\n",
       "    </tr>\n",
       "    <tr>\n",
       "      <th>...</th>\n",
       "      <td>...</td>\n",
       "      <td>...</td>\n",
       "    </tr>\n",
       "    <tr>\n",
       "      <th>63</th>\n",
       "      <td>73.0</td>\n",
       "      <td>6</td>\n",
       "    </tr>\n",
       "    <tr>\n",
       "      <th>64</th>\n",
       "      <td>74.0</td>\n",
       "      <td>2</td>\n",
       "    </tr>\n",
       "    <tr>\n",
       "      <th>65</th>\n",
       "      <td>76.0</td>\n",
       "      <td>1</td>\n",
       "    </tr>\n",
       "    <tr>\n",
       "      <th>66</th>\n",
       "      <td>78.0</td>\n",
       "      <td>2</td>\n",
       "    </tr>\n",
       "    <tr>\n",
       "      <th>67</th>\n",
       "      <td>98.0</td>\n",
       "      <td>1</td>\n",
       "    </tr>\n",
       "  </tbody>\n",
       "</table>\n",
       "<p>68 rows × 2 columns</p>\n",
       "</div>"
      ],
      "text/plain": [
       "     AGE  rec_cnt\n",
       "0    0.0        3\n",
       "1   11.0        1\n",
       "2   12.0       15\n",
       "3   13.0       25\n",
       "4   14.0       55\n",
       "..   ...      ...\n",
       "63  73.0        6\n",
       "64  74.0        2\n",
       "65  76.0        1\n",
       "66  78.0        2\n",
       "67  98.0        1\n",
       "\n",
       "[68 rows x 2 columns]"
      ]
     },
     "execution_count": 15,
     "metadata": {},
     "output_type": "execute_result"
    }
   ],
   "source": [
    "df_by_age"
   ]
  },
  {
   "cell_type": "code",
   "execution_count": 16,
   "id": "24ab2e2e-0cf2-4bbe-b2f4-d1520f58ebd4",
   "metadata": {},
   "outputs": [],
   "source": [
    "df_arrests_by_age = df.loc[df['record_type'] == 'Arrest'].\\\n",
    "    groupby('AGE').\\\n",
    "    aggregate(rec_cnt=('PK', 'count')).\\\n",
    "    reset_index().\\\n",
    "    copy()"
   ]
  },
  {
   "cell_type": "code",
   "execution_count": 17,
   "id": "a6cbd044-28f5-48f4-a204-438d2fd57e86",
   "metadata": {},
   "outputs": [],
   "source": [
    "df_citations_by_age = df.loc[df['record_type'] == 'Citation'].\\\n",
    "    groupby('AGE').\\\n",
    "    aggregate(rec_cnt=('PK', 'count')).\\\n",
    "    reset_index().\\\n",
    "    copy()"
   ]
  },
  {
   "cell_type": "code",
   "execution_count": 18,
   "id": "b07309ea-a8c3-4a04-8d74-548e3ce57944",
   "metadata": {},
   "outputs": [],
   "source": [
    "arrest_ages = df_arrests_by_age.AGE.to_list()"
   ]
  },
  {
   "cell_type": "code",
   "execution_count": 19,
   "id": "bad940f8-3bee-4c28-841d-53874ab32db6",
   "metadata": {},
   "outputs": [],
   "source": [
    "citation_ages = df_citations_by_age.AGE.to_list()"
   ]
  },
  {
   "cell_type": "code",
   "execution_count": 20,
   "id": "f08b257e-aa7e-4611-8118-5485270c4043",
   "metadata": {},
   "outputs": [],
   "source": [
    "intersect_ages = list((set(arrest_ages) & set(citation_ages)))\n",
    "#intersect_ages = np.array(list((set(arrest_ages) & set(citation_ages))))"
   ]
  },
  {
   "cell_type": "code",
   "execution_count": 21,
   "id": "97f65faf-96e8-461a-ad0d-d0f724963b97",
   "metadata": {},
   "outputs": [
    {
     "data": {
      "text/plain": [
       "[0.0, 13.0, 14.0, 15.0, 16.0]"
      ]
     },
     "execution_count": 21,
     "metadata": {},
     "output_type": "execute_result"
    }
   ],
   "source": [
    "intersect_ages[0:5]"
   ]
  },
  {
   "cell_type": "code",
   "execution_count": 22,
   "id": "02d282a6-287f-4dad-9933-507c920dabea",
   "metadata": {},
   "outputs": [],
   "source": [
    "df_by_age2 = df_by_age.loc[(df_by_age['AGE'] >= 13) & (df_by_age['AGE'] <= 59)].copy()"
   ]
  },
  {
   "cell_type": "code",
   "execution_count": 23,
   "id": "ca44b49d-b616-4b10-a357-a0877a0a72c2",
   "metadata": {},
   "outputs": [],
   "source": [
    "df_arrests_by_age2 = df_arrests_by_age.loc[(df_arrests_by_age['AGE'] >= 13) & (df_arrests_by_age['AGE'] <= 59)].copy()"
   ]
  },
  {
   "cell_type": "code",
   "execution_count": 24,
   "id": "24ce1a5b-39ae-42ef-8214-be5b6ed0da6c",
   "metadata": {},
   "outputs": [],
   "source": [
    "df_citations_by_age2 = df_citations_by_age.loc[(df_citations_by_age['AGE'] >= 13) & (df_citations_by_age['AGE'] <= 59)].copy()"
   ]
  },
  {
   "cell_type": "code",
   "execution_count": 25,
   "id": "9f1418e9-a8b1-447c-97d3-a9aefee4f5ed",
   "metadata": {},
   "outputs": [],
   "source": [
    "intersect_x = df_by_age2.AGE.tolist()"
   ]
  },
  {
   "cell_type": "code",
   "execution_count": 26,
   "id": "fb781be1-a972-4cd1-9252-77e9b2c26fbd",
   "metadata": {},
   "outputs": [
    {
     "data": {
      "image/png": "[encoded data removed]",
      "text/plain": [
       "<Figure size 432x288 with 1 Axes>"
      ]
     },
     "metadata": {
      "needs_background": "light"
     },
     "output_type": "display_data"
    }
   ],
   "source": [
    "ages_x = df_by_age2['AGE']\n",
    "records_y = df_by_age2['rec_cnt']\n",
    "plt.plot(ages_x, records_y, color='#444444', linestyle='--', label='All Records')\n",
    "\n",
    "ages_arrests_x = df_arrests_by_age2['AGE']\n",
    "records_arrests_y = df_arrests_by_age2['rec_cnt']\n",
    "plt.plot(ages_arrests_x, records_arrests_y, label='Arrests')\n",
    "\n",
    "ages_citations_x = df_citations_by_age2['AGE']\n",
    "records_citations_y = df_citations_by_age2['rec_cnt']\n",
    "plt.plot(ages_citations_x, records_citations_y, label='Citations')\n",
    "\n",
    "plt.xlabel(\"Ages\")\n",
    "plt.ylabel(\"Record Count\")\n",
    "plt.title(\"Number of Arrests/Citations by Age\")\n",
    "\n",
    "plt.legend()\n",
    "plt.show()"
   ]
  },
  {
   "cell_type": "code",
   "execution_count": 27,
   "id": "941e188a-6e35-48f5-b355-87b512f222e4",
   "metadata": {},
   "outputs": [
    {
     "data": {
      "image/png": "[encoded data removed]",
      "text/plain": [
       "<Figure size 1152x648 with 1 Axes>"
      ]
     },
     "metadata": {
      "needs_background": "light"
     },
     "output_type": "display_data"
    }
   ],
   "source": [
    "x_indexes = np.arange(len(intersect_x))\n",
    "w = 0.25\n",
    "\n",
    "\"\"\"print(len(intersect_x))\n",
    "print(len(x_indexes))\n",
    "print(df_by_age2['AGE'].shape[0])\"\"\"\n",
    "\n",
    "plt.figure(figsize=(16,9))\n",
    "\n",
    "ages_x = df_by_age2['AGE']\n",
    "records_y = df_by_age2['rec_cnt']\n",
    "plt.bar(x_indexes-w, records_y, width=w, label='All Records')\n",
    "\n",
    "ages_arrests_x = df_arrests_by_age2['AGE']\n",
    "records_arrests_y = df_arrests_by_age2['rec_cnt']\n",
    "plt.bar(x_indexes, records_arrests_y, width=w, label='Arrests')\n",
    "\n",
    "ages_citations_x = df_citations_by_age2['AGE']\n",
    "records_citations_y = df_citations_by_age2['rec_cnt']\n",
    "plt.bar(x_indexes+w, records_citations_y, width=w, label='Citations')\n",
    "\n",
    "#x_index_lst = list(x_indexes)\n",
    "#plt.xticks(ticks='x_indexes', labels='intersect_x')\n",
    "\n",
    "plt.xlabel(\"Ages\")\n",
    "plt.ylabel(\"Record Count\")\n",
    "plt.title(\"Number of Arrests/Citations by Age\")\n",
    "\n",
    "plt.legend()\n",
    "plt.show()"
   ]
  },
  {
   "cell_type": "code",
   "execution_count": 28,
   "id": "c510400f-a94d-426b-ab0a-2866e1a803ca",
   "metadata": {},
   "outputs": [
    {
     "data": {
      "image/png": "[encoded data removed]",
      "text/plain": [
       "<Figure size 432x288 with 1 Axes>"
      ]
     },
     "metadata": {
      "needs_background": "light"
     },
     "output_type": "display_data"
    }
   ],
   "source": [
    "with open(\"data/marijuana_arrests_and_citations_2017_thru_2022.csv\") as csv_file:\n",
    "    csv_reader = csv.DictReader(csv_file)\n",
    "    \n",
    "    offense_counter = Counter()\n",
    "    \n",
    "    row = next(csv_reader)\n",
    "    \n",
    "    #print(row['OFFENSES'].replace(\".\", \"\").split(\" / \"))\n",
    "    \n",
    "    for row in csv_reader:\n",
    "        offense_counter.update(row['OFFENSES'].replace(\".\", \"\").split(\" / \"))\n",
    "        \n",
    "    #print(offense_counter)\n",
    "    #print(offense_counter.most_common(15))\n",
    "    \n",
    "    offense = []\n",
    "    frequency = []\n",
    "    \n",
    "    for item in offense_counter.most_common(15):\n",
    "        offense.append(item[0])\n",
    "        frequency.append(item[1])\n",
    "        \n",
    "    offense.reverse()\n",
    "    frequency.reverse()\n",
    "        \n",
    "    #print(offense)\n",
    "    #print(frequency)\n",
    "    \n",
    "    plt.barh(offense, frequency)\n",
    "    \n",
    "    plt.title(\"Top 15 Offenses by Frequency\")\n",
    "    plt.xlabel(\"Frequency of Offense\")\n",
    "    \n",
    "    #plt.tight_layout()\n",
    "    \n",
    "    plt.show()"
   ]
  },
  {
   "cell_type": "code",
   "execution_count": 29,
   "id": "c1937604-828a-4083-b1b8-5b06d7b84442",
   "metadata": {},
   "outputs": [
    {
     "data": {
      "image/png": "[encoded data removed]",
      "text/plain": [
       "<Figure size 432x288 with 1 Axes>"
      ]
     },
     "metadata": {
      "needs_background": "light"
     },
     "output_type": "display_data"
    }
   ],
   "source": [
    "offense_counter = Counter()\n",
    "    \n",
    "ids = df['PK']\n",
    "offenses = df['OFFENSES']\n",
    "    \n",
    "for o in offenses:\n",
    "    offense_counter.update(o.replace(\".\", \"\").split(\" / \"))\n",
    "        \n",
    "#print(offense_counter)\n",
    "#print(offense_counter.most_common(15))\n",
    "    \n",
    "offense = []\n",
    "frequency = []\n",
    "    \n",
    "for item in offense_counter.most_common(15):\n",
    "    offense.append(item[0])\n",
    "    frequency.append(item[1])\n",
    "        \n",
    "#print(offense)\n",
    "#print(frequency)\n",
    "    \n",
    "plt.barh(offense, frequency)\n",
    "    \n",
    "plt.title(\"Top 15 Offenses by Frequency\")\n",
    "plt.xlabel(\"Frequency of Offense\")\n",
    "\n",
    "plt.show()"
   ]
  },
  {
   "cell_type": "code",
   "execution_count": null,
   "id": "257a7658-6e39-412b-b740-36652f0b956a",
   "metadata": {},
   "outputs": [],
   "source": []
  }
 ],
 "metadata": {
  "kernelspec": {
   "display_name": "Python 3 (ipykernel)",
   "language": "python",
   "name": "python3"
  },
  "language_info": {
   "codemirror_mode": {
    "name": "ipython",
    "version": 3
   },
   "file_extension": ".py",
   "mimetype": "text/x-python",
   "name": "python",
   "nbconvert_exporter": "python",
   "pygments_lexer": "ipython3",
   "version": "3.9.12"
  }
 },
 "nbformat": 4,
 "nbformat_minor": 5
}
